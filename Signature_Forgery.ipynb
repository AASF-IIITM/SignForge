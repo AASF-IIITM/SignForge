{
 "cells": [
  {
   "cell_type": "code",
   "execution_count": 11,
   "metadata": {},
   "outputs": [],
   "source": [
    "import cv2                 # working with, mainly resizing, images\n",
    "import numpy as np         # dealing with arrays\n",
    "import os                  # dealing with directories\n",
    "from random import shuffle # mixing up or currently ordered data that might lead our network astray in training.\n",
    "from tqdm import tqdm      # a nice pretty percentage bar for tasks. Thanks to viewer Daniel BA1/4hler for this suggestion\n",
    "\n",
    "TRAIN_DIR = 'train_set'\n",
    "TEST_DIR = 'test_set'\n",
    "IMG_SIZE = 28\n",
    "LR = 1e-3"
   ]
  },
  {
   "cell_type": "code",
   "execution_count": 12,
   "metadata": {},
   "outputs": [],
   "source": [
    "def label_img(img):\n",
    "    image_label = img.split('.')\n",
    "    name = image_label[0]\n",
    "    # checking if the signature is forged or genuine\n",
    "    #                            \n",
    "    \n",
    "    if name[4:7] == name[-3:]:\n",
    "        return 1\n",
    "  \n",
    "    elif name[4:7] != name[-3:]:\n",
    "        return 0"
   ]
  },
  {
   "cell_type": "code",
   "execution_count": 13,
   "metadata": {},
   "outputs": [],
   "source": [
    "def person_img(img):\n",
    "    label = img.split('.')\n",
    "    k = label[0]\n",
    "    return [k[-3:]]"
   ]
  },
  {
   "cell_type": "code",
   "execution_count": 14,
   "metadata": {},
   "outputs": [],
   "source": [
    "def create_features(DIR):\n",
    "    features = []\n",
    "    labels = []\n",
    "    for img in tqdm(os.listdir(DIR)):\n",
    "        label = label_img(img)\n",
    "        person = person_img(img)\n",
    "       \n",
    "        path = os.path.join(DIR,img)\n",
    "        img = cv2.imread(path,cv2.IMREAD_GRAYSCALE)\n",
    "        img = cv2.resize(img, (IMG_SIZE,IMG_SIZE))\n",
    "        features.append([img])\n",
    "        labels.append(np.array(label))\n",
    "    #shuffle(training_data)\n",
    "    #np.save('train_data.npy', training_data)\n",
    "    return features"
   ]
  },
  {
   "cell_type": "code",
   "execution_count": 15,
   "metadata": {},
   "outputs": [
    {
     "name": "stderr",
     "output_type": "stream",
     "text": [
      "100%|██████████| 179/179 [00:04<00:00, 42.58it/s]\n",
      "100%|██████████| 121/121 [00:01<00:00, 61.52it/s]"
     ]
    },
    {
     "name": "stdout",
     "output_type": "stream",
     "text": [
      "(121, 1, 28, 28)\n",
      "(121, 28, 28, 1)\n",
      "(179, 28, 28, 1)\n"
     ]
    },
    {
     "name": "stderr",
     "output_type": "stream",
     "text": [
      "\n"
     ]
    }
   ],
   "source": [
    "train_features  = np.array(create_features(TRAIN_DIR))\n",
    "test_features  = np.array(create_features(TEST_DIR))\n",
    "print test_features.shape\n",
    "train_features_reshaped = train_features.reshape(-1, 28,28, 1)\n",
    "test_features_reshaped = test_features.reshape(-1, 28,28, 1)\n",
    "print test_features_reshaped.shape\n",
    "print train_features_reshaped.shape\n",
    "\n",
    "train_features_reshaped = train_features_reshaped.astype('float32')\n",
    "test_features_reshaped = test_features_reshaped.astype('float32')\n",
    "train_features_reshaped = train_features_reshaped / 255.\n",
    "test_features_reshaped = test_features_reshaped / 255."
   ]
  },
  {
   "cell_type": "code",
   "execution_count": 16,
   "metadata": {},
   "outputs": [],
   "source": [
    "def create_labels(DIR):\n",
    "    labels = []\n",
    "    for img in tqdm(os.listdir(DIR)):\n",
    "        label = label_img(img)\n",
    "        labels.append(np.array(label))\n",
    "    return labels"
   ]
  },
  {
   "cell_type": "code",
   "execution_count": 17,
   "metadata": {},
   "outputs": [
    {
     "name": "stderr",
     "output_type": "stream",
     "text": [
      "100%|██████████| 179/179 [00:00<00:00, 79878.75it/s]\n",
      "100%|██████████| 121/121 [00:00<00:00, 32265.93it/s]"
     ]
    },
    {
     "name": "stdout",
     "output_type": "stream",
     "text": [
      "(121,)\n"
     ]
    },
    {
     "name": "stderr",
     "output_type": "stream",
     "text": [
      "\n"
     ]
    }
   ],
   "source": [
    "train_labels = np.array(create_labels(TRAIN_DIR))\n",
    "test_labels = np.array(create_labels(TEST_DIR))\n",
    "print test_labels.shape"
   ]
  },
  {
   "cell_type": "code",
   "execution_count": 18,
   "metadata": {},
   "outputs": [],
   "source": [
    "import numpy as np\n",
    "from keras.utils import to_categorical\n",
    "import matplotlib.pyplot as plt\n",
    "%matplotlib inline"
   ]
  },
  {
   "cell_type": "code",
   "execution_count": 25,
   "metadata": {},
   "outputs": [],
   "source": [
    "train_labels_one_hot = to_categorical(train_labels)"
   ]
  },
  {
   "cell_type": "code",
   "execution_count": 26,
   "metadata": {},
   "outputs": [
    {
     "name": "stdout",
     "output_type": "stream",
     "text": [
      "(121, 2)\n"
     ]
    }
   ],
   "source": [
    "test_labels_one_hot = to_categorical(test_labels)\n",
    "print test_labels_one_hot.shape"
   ]
  },
  {
   "cell_type": "code",
   "execution_count": 27,
   "metadata": {},
   "outputs": [],
   "source": [
    "import keras\n",
    "from keras.models import Sequential,Input,Model\n",
    "from keras.layers import Dense, Dropout, Flatten\n",
    "from keras.layers import Conv2D, MaxPooling2D\n",
    "from keras.layers.normalization import BatchNormalization\n",
    "from keras.layers.advanced_activations import LeakyReLU\n",
    "\n",
    "batch_size = 64\n",
    "epochs = 20\n",
    "num_classes = 2\n"
   ]
  },
  {
   "cell_type": "code",
   "execution_count": 28,
   "metadata": {},
   "outputs": [],
   "source": [
    "fashion_model = Sequential()\n",
    "fashion_model.add(Conv2D(32, kernel_size=(3, 3),activation='linear',input_shape=(28,28,1),padding='same'))\n",
    "fashion_model.add(LeakyReLU(alpha=0.1))\n",
    "fashion_model.add(MaxPooling2D((2, 2),padding='same'))\n",
    "fashion_model.add(Conv2D(64, (3, 3), activation='linear',padding='same'))\n",
    "fashion_model.add(LeakyReLU(alpha=0.1))\n",
    "fashion_model.add(MaxPooling2D(pool_size=(2, 2),padding='same'))\n",
    "fashion_model.add(Conv2D(128, (3, 3), activation='linear',padding='same'))\n",
    "fashion_model.add(LeakyReLU(alpha=0.1))                  \n",
    "fashion_model.add(MaxPooling2D(pool_size=(2, 2),padding='same'))\n",
    "fashion_model.add(Flatten())\n",
    "fashion_model.add(Dense(128, activation='linear'))\n",
    "fashion_model.add(LeakyReLU(alpha=0.1))                  \n",
    "fashion_model.add(Dense(num_classes, activation='softmax'))\n"
   ]
  },
  {
   "cell_type": "code",
   "execution_count": 29,
   "metadata": {},
   "outputs": [
    {
     "name": "stdout",
     "output_type": "stream",
     "text": [
      "_________________________________________________________________\n",
      "Layer (type)                 Output Shape              Param #   \n",
      "=================================================================\n",
      "conv2d_4 (Conv2D)            (None, 28, 28, 32)        320       \n",
      "_________________________________________________________________\n",
      "leaky_re_lu_5 (LeakyReLU)    (None, 28, 28, 32)        0         \n",
      "_________________________________________________________________\n",
      "max_pooling2d_4 (MaxPooling2 (None, 14, 14, 32)        0         \n",
      "_________________________________________________________________\n",
      "conv2d_5 (Conv2D)            (None, 14, 14, 64)        18496     \n",
      "_________________________________________________________________\n",
      "leaky_re_lu_6 (LeakyReLU)    (None, 14, 14, 64)        0         \n",
      "_________________________________________________________________\n",
      "max_pooling2d_5 (MaxPooling2 (None, 7, 7, 64)          0         \n",
      "_________________________________________________________________\n",
      "conv2d_6 (Conv2D)            (None, 7, 7, 128)         73856     \n",
      "_________________________________________________________________\n",
      "leaky_re_lu_7 (LeakyReLU)    (None, 7, 7, 128)         0         \n",
      "_________________________________________________________________\n",
      "max_pooling2d_6 (MaxPooling2 (None, 4, 4, 128)         0         \n",
      "_________________________________________________________________\n",
      "flatten_2 (Flatten)          (None, 2048)              0         \n",
      "_________________________________________________________________\n",
      "dense_3 (Dense)              (None, 128)               262272    \n",
      "_________________________________________________________________\n",
      "leaky_re_lu_8 (LeakyReLU)    (None, 128)               0         \n",
      "_________________________________________________________________\n",
      "dense_4 (Dense)              (None, 2)                 258       \n",
      "=================================================================\n",
      "Total params: 355,202\n",
      "Trainable params: 355,202\n",
      "Non-trainable params: 0\n",
      "_________________________________________________________________\n"
     ]
    }
   ],
   "source": [
    "fashion_model.compile(loss=keras.losses.categorical_crossentropy, optimizer=keras.optimizers.Adam(),metrics=['accuracy'])\n",
    "fashion_model.summary()"
   ]
  },
  {
   "cell_type": "code",
   "execution_count": 30,
   "metadata": {},
   "outputs": [
    {
     "name": "stdout",
     "output_type": "stream",
     "text": [
      "Train on 179 samples, validate on 121 samples\n",
      "Epoch 1/20\n",
      "179/179 [==============================] - 2s 14ms/step - loss: 0.8609 - acc: 0.4358 - val_loss: 0.6939 - val_acc: 0.5041\n",
      "Epoch 2/20\n",
      "179/179 [==============================] - 0s 3ms/step - loss: 0.7005 - acc: 0.5028 - val_loss: 0.7011 - val_acc: 0.4959\n",
      "Epoch 3/20\n",
      "179/179 [==============================] - 0s 3ms/step - loss: 0.6948 - acc: 0.5028 - val_loss: 0.6933 - val_acc: 0.4793\n",
      "Epoch 4/20\n",
      "179/179 [==============================] - 1s 3ms/step - loss: 0.6948 - acc: 0.5028 - val_loss: 0.6942 - val_acc: 0.5041\n",
      "Epoch 5/20\n",
      "179/179 [==============================] - 1s 4ms/step - loss: 0.6959 - acc: 0.4972 - val_loss: 0.6929 - val_acc: 0.5207\n",
      "Epoch 6/20\n",
      "179/179 [==============================] - 1s 4ms/step - loss: 0.6932 - acc: 0.4804 - val_loss: 0.6930 - val_acc: 0.4959\n",
      "Epoch 7/20\n",
      "179/179 [==============================] - 1s 3ms/step - loss: 0.6926 - acc: 0.5363 - val_loss: 0.6928 - val_acc: 0.5289\n",
      "Epoch 8/20\n",
      "179/179 [==============================] - 0s 2ms/step - loss: 0.6918 - acc: 0.6089 - val_loss: 0.6927 - val_acc: 0.4959\n",
      "Epoch 9/20\n",
      "179/179 [==============================] - 0s 2ms/step - loss: 0.6924 - acc: 0.5140 - val_loss: 0.6930 - val_acc: 0.4959\n",
      "Epoch 10/20\n",
      "179/179 [==============================] - 1s 3ms/step - loss: 0.6907 - acc: 0.5028 - val_loss: 0.6923 - val_acc: 0.5702\n",
      "Epoch 11/20\n",
      "179/179 [==============================] - 1s 3ms/step - loss: 0.6909 - acc: 0.6089 - val_loss: 0.6920 - val_acc: 0.5455\n",
      "Epoch 12/20\n",
      "179/179 [==============================] - 0s 2ms/step - loss: 0.6894 - acc: 0.6536 - val_loss: 0.6917 - val_acc: 0.4959\n",
      "Epoch 13/20\n",
      "179/179 [==============================] - 1s 3ms/step - loss: 0.6893 - acc: 0.5587 - val_loss: 0.6912 - val_acc: 0.5620\n",
      "Epoch 14/20\n",
      "179/179 [==============================] - 1s 4ms/step - loss: 0.6896 - acc: 0.4916 - val_loss: 0.6912 - val_acc: 0.5041\n",
      "Epoch 15/20\n",
      "179/179 [==============================] - 0s 2ms/step - loss: 0.6895 - acc: 0.5084 - val_loss: 0.6909 - val_acc: 0.5785\n",
      "Epoch 16/20\n",
      "179/179 [==============================] - 0s 2ms/step - loss: 0.6840 - acc: 0.6313 - val_loss: 0.6893 - val_acc: 0.5207\n",
      "Epoch 17/20\n",
      "179/179 [==============================] - 0s 3ms/step - loss: 0.6790 - acc: 0.6201 - val_loss: 0.6862 - val_acc: 0.5289\n",
      "Epoch 18/20\n",
      "179/179 [==============================] - 1s 3ms/step - loss: 0.6771 - acc: 0.5084 - val_loss: 0.6831 - val_acc: 0.5289\n",
      "Epoch 19/20\n",
      "179/179 [==============================] - 1s 4ms/step - loss: 0.6660 - acc: 0.6089 - val_loss: 0.6852 - val_acc: 0.5620\n",
      "Epoch 20/20\n",
      "179/179 [==============================] - 1s 3ms/step - loss: 0.6749 - acc: 0.5587 - val_loss: 0.6776 - val_acc: 0.5455\n"
     ]
    }
   ],
   "source": [
    "fashion_train = fashion_model.fit(train_features_reshaped, train_labels_one_hot, batch_size=batch_size,epochs=epochs,verbose=1,validation_data=(test_features_reshaped, test_labels_one_hot))"
   ]
  },
  {
   "cell_type": "code",
   "execution_count": null,
   "metadata": {},
   "outputs": [],
   "source": []
  },
  {
   "cell_type": "code",
   "execution_count": null,
   "metadata": {},
   "outputs": [],
   "source": []
  }
 ],
 "metadata": {
  "kernelspec": {
   "display_name": "Python 2",
   "language": "python",
   "name": "python2"
  },
  "language_info": {
   "codemirror_mode": {
    "name": "ipython",
    "version": 2
   },
   "file_extension": ".py",
   "mimetype": "text/x-python",
   "name": "python",
   "nbconvert_exporter": "python",
   "pygments_lexer": "ipython2",
   "version": "2.7.15"
  }
 },
 "nbformat": 4,
 "nbformat_minor": 2
}
